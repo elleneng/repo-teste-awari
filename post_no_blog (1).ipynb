{
  "nbformat": 4,
  "nbformat_minor": 0,
  "metadata": {
    "colab": {
      "name": "post-no-blog.ipynb",
      "provenance": []
    },
    "kernelspec": {
      "name": "python3",
      "display_name": "Python 3"
    }
  },
  "cells": [
    {
      "cell_type": "code",
      "metadata": {
        "id": "juR6VH7yBEbX",
        "colab_type": "code",
        "colab": {}
      },
      "source": [
        ""
      ],
      "execution_count": 4,
      "outputs": []
    },
    {
      "cell_type": "code",
      "metadata": {
        "id": "-5Wqx0NSBIYT",
        "colab_type": "code",
        "colab": {}
      },
      "source": [
        ""
      ],
      "execution_count": 4,
      "outputs": []
    },
    {
      "cell_type": "markdown",
      "metadata": {
        "id": "WG5y9PJgBKlc",
        "colab_type": "text"
      },
      "source": [
        "# crianças tomando sorvete no verão de Nova Iorque\n",
        "foto tirada por xxx\n",
        "[fonte da imagem](https://i.redd.it/57ed044lifd51.jpg)\n",
        "\n",
        "- toc: false\n",
        "- branch: master\n",
        "- badges: true\n",
        "- comments: true\n",
        "- categories: crianças, sorvete\n",
        "\n",
        "\n"
      ]
    },
    {
      "cell_type": "code",
      "metadata": {
        "id": "-HXSBdCOC9t7",
        "colab_type": "code",
        "colab": {
          "base_uri": "https://localhost:8080/",
          "height": 224
        },
        "outputId": "da57c1f1-2afd-4b51-cd85-9c81ddbf49f9"
      },
      "source": [
        "!wget https://raw.githubusercontent.com/awarischool/br-data-science/master/image-colorizer/deoldify_wrapper.py"
      ],
      "execution_count": 5,
      "outputs": [
        {
          "output_type": "stream",
          "text": [
            "--2020-08-03 22:09:48--  https://raw.githubusercontent.com/awarischool/br-data-science/master/image-colorizer/deoldify_wrapper.py\n",
            "Resolving raw.githubusercontent.com (raw.githubusercontent.com)... 151.101.0.133, 151.101.64.133, 151.101.128.133, ...\n",
            "Connecting to raw.githubusercontent.com (raw.githubusercontent.com)|151.101.0.133|:443... connected.\n",
            "HTTP request sent, awaiting response... 200 OK\n",
            "Length: 2614 (2.6K) [text/plain]\n",
            "Saving to: ‘deoldify_wrapper.py’\n",
            "\n",
            "\rdeoldify_wrapper.py   0%[                    ]       0  --.-KB/s               \rdeoldify_wrapper.py 100%[===================>]   2.55K  --.-KB/s    in 0s      \n",
            "\n",
            "2020-08-03 22:09:48 (49.5 MB/s) - ‘deoldify_wrapper.py’ saved [2614/2614]\n",
            "\n"
          ],
          "name": "stdout"
        }
      ]
    },
    {
      "cell_type": "code",
      "metadata": {
        "id": "OTguktexDFeG",
        "colab_type": "code",
        "colab": {}
      },
      "source": [
        ""
      ],
      "execution_count": 5,
      "outputs": []
    },
    {
      "cell_type": "code",
      "metadata": {
        "id": "BC9SaCYHDhjq",
        "colab_type": "code",
        "colab": {}
      },
      "source": [
        "from google.colab import drive\n",
        "drive.mount('/content/drive')"
      ],
      "execution_count": null,
      "outputs": []
    },
    {
      "cell_type": "markdown",
      "metadata": {
        "id": "g9Ebx2nhD5XA",
        "colab_type": "text"
      },
      "source": [
        "deoldify"
      ]
    },
    {
      "cell_type": "code",
      "metadata": {
        "id": "sTFg9wXED-cp",
        "colab_type": "code",
        "colab": {}
      },
      "source": [
        "from deoldify_wrapper import DeOldify\n"
      ],
      "execution_count": null,
      "outputs": []
    },
    {
      "cell_type": "code",
      "metadata": {
        "id": "GiA2MhDcE2-G",
        "colab_type": "code",
        "colab": {}
      },
      "source": [
        "#hide\n",
        "deo = DeOldify()\n"
      ],
      "execution_count": null,
      "outputs": []
    },
    {
      "cell_type": "code",
      "metadata": {
        "id": "37Z2QvMwG8QM",
        "colab_type": "code",
        "colab": {}
      },
      "source": [
        "#hide\n",
        "\n",
        "url = 'https://i.redd.it/57ed044lifd51.jpg'\n",
        "deo.colorize(url)"
      ],
      "execution_count": null,
      "outputs": []
    },
    {
      "cell_type": "code",
      "metadata": {
        "id": "Y3B1g7TaHoZT",
        "colab_type": "code",
        "colab": {}
      },
      "source": [
        ""
      ],
      "execution_count": null,
      "outputs": []
    }
  ]
}